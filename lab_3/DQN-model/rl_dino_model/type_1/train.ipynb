{
 "cells": [
  {
   "metadata": {},
   "cell_type": "markdown",
   "source": "## 1. Создание модели",
   "id": "c60ae06a245b5c93"
  },
  {
   "metadata": {
    "ExecuteTime": {
     "end_time": "2024-11-10T20:38:08.785244Z",
     "start_time": "2024-11-10T20:38:08.780754Z"
    }
   },
   "cell_type": "code",
   "source": [
    "import torch\n",
    "import torch.nn as nn\n",
    "\n",
    "\n",
    "class DQN(nn.Module):\n",
    "    def __init__(self, in_channels: int, out_channels: int, *args, **kwargs) -> None:\n",
    "        super().__init__(*args, **kwargs)\n",
    "\n",
    "        self.conv = nn.Sequential(\n",
    "            nn.Conv2d(in_channels, 32, kernel_size=8, stride=4),\n",
    "            nn.ReLU(),\n",
    "            nn.Conv2d(32, 64, kernel_size=4, stride=2),\n",
    "            nn.ReLU(),\n",
    "            nn.Conv2d(64, 64, kernel_size=3, stride=1),\n",
    "            nn.ReLU(),\n",
    "        )\n",
    "\n",
    "        self.fc = nn.Sequential(\n",
    "            nn.Linear(3072, 256), nn.ReLU(), nn.Linear(256, out_channels)\n",
    "        )\n",
    "\n",
    "    def forward(self, x: torch.Tensor) -> torch.Tensor:\n",
    "        x = self.conv(x)\n",
    "        x = torch.flatten(x, 1)\n",
    "        x = self.fc(x)\n",
    "\n",
    "        return x"
   ],
   "id": "890ee9dc7b95179d",
   "outputs": [],
   "execution_count": 7
  },
  {
   "metadata": {},
   "cell_type": "markdown",
   "source": "## 2. Тренировка модели",
   "id": "3f527deecffbfb49"
  },
  {
   "metadata": {},
   "cell_type": "markdown",
   "source": "### 2.1. Импорт библиотек",
   "id": "7961c293daf35927"
  },
  {
   "cell_type": "code",
   "id": "initial_id",
   "metadata": {
    "collapsed": true,
    "ExecuteTime": {
     "end_time": "2024-11-10T20:38:06.121090Z",
     "start_time": "2024-11-10T20:38:06.118217Z"
    }
   },
   "source": [
    "from PIL import Image\n",
    "from collections import deque, namedtuple\n",
    "import datetime\n",
    "from itertools import count\n",
    "import os\n",
    "import shutil\n",
    "import gymnasium as gym\n",
    "from torchvision.utils import torch\n",
    "import torch.nn as nn\n",
    "import random\n",
    "import envs\n",
    "import numpy as np"
   ],
   "outputs": [],
   "execution_count": 6
  },
  {
   "metadata": {},
   "cell_type": "markdown",
   "source": [
    "*Пояснения:\n",
    "- `PIL.Image` используется для создания и сохранения GIF,\n",
    "- `deque` и `namedtuple` облегчают управление данными,\n",
    "- `torch` и `nn` обеспечивают инструменты для нейронной сети,\n",
    "- `envs` и `DQN` — это пользовательские модули для настройки среды и модели."
   ],
   "id": "537428e6d6d0244a"
  },
  {
   "metadata": {},
   "cell_type": "markdown",
   "source": "### 2.2. Создание буфера `Replay Memory`",
   "id": "5d9b2c0ea3e4229"
  },
  {
   "metadata": {},
   "cell_type": "markdown",
   "source": "Определим класс `MemoryReplay`, который будет хранить предыдущие состояния и действия агента. Он используется для \"experience replay\" — важного механизма для улучшения стабильности и эффективности обучения DQN.",
   "id": "3db87cc1390285d8"
  },
  {
   "metadata": {
    "ExecuteTime": {
     "end_time": "2024-11-10T20:38:13.752935Z",
     "start_time": "2024-11-10T20:38:13.749405Z"
    }
   },
   "cell_type": "code",
   "source": [
    "Transition = namedtuple(\n",
    "    \"Transition\", (\"state\", \"action\", \"next_state\", \"reward\", \"terminated\")\n",
    ")\n",
    "\n",
    "\n",
    "class MemoryReplay(object):\n",
    "    def __init__(self, capacity):\n",
    "        self.memory = deque([], maxlen=capacity)\n",
    "\n",
    "    def push(self, *args):\n",
    "        self.memory.append(Transition(*args))\n",
    "\n",
    "    def sample(self, batch_size):\n",
    "        return random.sample(self.memory, batch_size)\n",
    "\n",
    "    def __len__(self):\n",
    "        return len(self.memory)"
   ],
   "id": "3f634f03cbfbb64e",
   "outputs": [],
   "execution_count": 8
  },
  {
   "metadata": {},
   "cell_type": "markdown",
   "source": "### 2.3. Определение класса Trainer",
   "id": "39cf90bccd46adb7"
  },
  {
   "metadata": {},
   "cell_type": "markdown",
   "source": [
    "*Так как код получился объёмным, чтобы не занимать всю ячейку им, опишу здесь то, что происходит в каждой из частей класса.\n",
    "\n",
    "Чтобы запустить тренировку модели достаточно выполнить следующую команду:\n",
    "```bash\n",
    "python train.py\n",
    "```"
   ],
   "id": "b0022c5cf1a08136"
  },
  {
   "metadata": {},
   "cell_type": "markdown",
   "source": "*Для настройки параметров обучения следует изменить их необходимые значения в файле `train.py`",
   "id": "1fe62cc576ed1dd7"
  },
  {
   "metadata": {},
   "cell_type": "markdown",
   "source": "#### 2.3.1. Конструктор `__init__`",
   "id": "c3431fa76911098"
  },
  {
   "metadata": {},
   "cell_type": "markdown",
   "source": [
    "Этот блок инициализирует такие параметры как:\n",
    "- буфер опыта,\n",
    "- оптимизатор,\n",
    "- функции для политики `eps-greedy`\n",
    "- папки для сохранения результатов тренировки.\n",
    "\n",
    "```python\n",
    "class Trainer:\n",
    "    def __init__(\n",
    "        self,\n",
    "        env: envs.Wrapper,\n",
    "        policy_net: DQN,\n",
    "        target_net: DQN,\n",
    "        device: torch.device,\n",
    "        n_episodes=10,\n",
    "        lr=1e-4,\n",
    "        batch_size=128,\n",
    "        replay_size=100_000,  # experience replay's buffer size\n",
    "        learning_start=50_000,  # number of frames before learning starts\n",
    "        target_update_freq=10_000,  # number of frames between every target network update\n",
    "        optimize_freq=4,\n",
    "        gamma=0.99,  # reward decay factor\n",
    "        # explore/exploit eps-greedy policy\n",
    "        eps_start=1.0,\n",
    "        eps_end=0.01,\n",
    "        eps_decay=100_000,\n",
    "    ):\n",
    "        ...\n",
    "        self.memory_replay = MemoryReplay(replay_size)\n",
    "        ...\n",
    "\n",
    "```\n"
   ],
   "id": "6822227abc337f2b"
  },
  {
   "metadata": {},
   "cell_type": "markdown",
   "source": "#### 2.3.2. Метод `_select_action`",
   "id": "20c22b3954a01190"
  },
  {
   "metadata": {},
   "cell_type": "markdown",
   "source": [
    "```python\n",
    "def _select_action(self, state: torch.Tensor) -> torch.Tensor:\n",
    "    ...\n",
    "```\n",
    "Метод реализует выбор действия агентом с использованием `eps-greedy` стратегии, где `eps` управляет вероятностью случайного действия. Это важно для обеспечения баланса между исследованием и использованием изученной политики."
   ],
   "id": "8fa6e4aac92bad47"
  },
  {
   "metadata": {},
   "cell_type": "markdown",
   "source": "#### 2.3.3. Метод `_optimize`",
   "id": "654ca78770ca1d4e"
  },
  {
   "metadata": {},
   "cell_type": "markdown",
   "source": [
    "```python\n",
    "def _optimize(self):\n",
    "    ...\n",
    "```\n",
    "Этот метод загружает батч данных из памяти, вычисляет целевые значения и обновляет параметры сети. Используется функция потерь SmoothL1Loss для уменьшения разности между предсказанными и целевыми значениями."
   ],
   "id": "5037b2a5afb777f2"
  },
  {
   "metadata": {},
   "cell_type": "markdown",
   "source": "#### 2.3.4. Метод `train`",
   "id": "793dbfd1c8e751db"
  },
  {
   "metadata": {},
   "cell_type": "markdown",
   "source": [
    "```pytohn\n",
    "def train(self):\n",
    "    ...\n",
    "```\n",
    "Основной метод обучения, который выполняет серии эпизодов. На каждом шаге выбирается действие, обновляется состояние, и, если нужно, оптимизируется сеть и обновляется целевая сеть (`target_net`)."
   ],
   "id": "d5821c87823da6fc"
  },
  {
   "metadata": {},
   "cell_type": "markdown",
   "source": "#### 2.3.5. Метод `save_obs_result`",
   "id": "a74f059e3d9e716c"
  },
  {
   "metadata": {},
   "cell_type": "markdown",
   "source": [
    "```python\n",
    "def save_obs_result(self, episode_i: int, obs_arr: list[np.ndarray]):\n",
    "    ...\n",
    "```\n",
    "Сохраняет каждый эпизод как GIF, используя `PIL.Image`, что позволяет визуализировать поведение модели."
   ],
   "id": "37a3ffd4717b03be"
  },
  {
   "metadata": {},
   "cell_type": "markdown",
   "source": "### 2.4. Запуск обучения",
   "id": "4ccd2a297784229e"
  },
  {
   "metadata": {},
   "cell_type": "markdown",
   "source": "Определяется устройство (CPU или GPU), создаётся среда и начинается обучение агента с использованием `Trainer`.",
   "id": "2e06727b3737eda6"
  },
  {
   "metadata": {},
   "cell_type": "markdown",
   "source": [
    "```python\n",
    "if __name__ == \"__main__\":\n",
    "    device = torch.device(\"cuda\" if torch.cuda.is_available() else \"cpu\")\n",
    "    ...\n",
    "    trainer = Trainer(env, policy_net, target_net, device=device)\n",
    "    trainer.train()\n",
    "```"
   ],
   "id": "55657edb9bc2bab0"
  },
  {
   "metadata": {},
   "cell_type": "markdown",
   "source": "## Результат обучения модели",
   "id": "ebbbd18e6dea4cac"
  },
  {
   "metadata": {
    "ExecuteTime": {
     "end_time": "2024-11-10T21:46:12.043226Z",
     "start_time": "2024-11-10T21:46:12.004166Z"
    }
   },
   "cell_type": "code",
   "source": [
    "import matplotlib.pyplot as plt\n",
    "import matplotlib.image as mpimg\n",
    "\n",
    "# Открытие изображения\n",
    "img = mpimg.imread(\"./results/24-11-10-17-09/graphs.png\")\n",
    "\n",
    "# Отображение изображения\n",
    "plt.imshow(img)\n",
    "plt.axis('off')  # Скрыть оси\n",
    "plt.show()"
   ],
   "id": "5ba8b84072073116",
   "outputs": [
    {
     "data": {
      "text/plain": [
       "<Figure size 640x480 with 1 Axes>"
      ],
      "image/png": "[encoded data removed]"
     },
     "metadata": {},
     "output_type": "display_data"
    }
   ],
   "execution_count": 12
  },
  {
   "metadata": {},
   "cell_type": "markdown",
   "source": "Выше представлен график обучения модели в ходе 1000 эпизодов. Награда определяется как количество препятствий, которые агент успешно преодолевает, прежде чем столкнется с одним из них. Лучшие параметры модели (на основе графика результатов) можно найти в файле `model.pth`.",
   "id": "2d65b740579585e9"
  }
 ],
 "metadata": {
  "kernelspec": {
   "display_name": "Python 3",
   "language": "python",
   "name": "python3"
  },
  "language_info": {
   "codemirror_mode": {
    "name": "ipython",
    "version": 2
   },
   "file_extension": ".py",
   "mimetype": "text/x-python",
   "name": "python",
   "nbconvert_exporter": "python",
   "pygments_lexer": "ipython2",
   "version": "2.7.6"
  }
 },
 "nbformat": 4,
 "nbformat_minor": 5
}
