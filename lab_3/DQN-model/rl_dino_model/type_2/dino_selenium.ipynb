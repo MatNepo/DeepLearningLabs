{
 "cells": [
  {
   "cell_type": "code",
   "id": "initial_id",
   "metadata": {
    "collapsed": true,
    "ExecuteTime": {
     "end_time": "2024-11-10T10:02:57.878837Z",
     "start_time": "2024-11-10T10:02:57.872804Z"
    }
   },
   "source": [
    "import cv2\n",
    "import numpy as np\n",
    "from mss import mss\n",
    "import base64\n",
    "from io import BytesIO\n",
    "from PIL import Image\n",
    "import os\n",
    "import time\n",
    "import pytesseract\n",
    "import pydirectinput\n",
    "from gymnasium import Env  # Изменено на gymnasium\n",
    "from gymnasium.spaces import Box, Discrete\n",
    "from selenium.webdriver.common.alert import Alert\n",
    "from selenium import webdriver\n",
    "from selenium.webdriver.common.by import By\n",
    "from stable_baselines3 import DQN\n",
    "from selenium.webdriver.common.keys import Keys\n",
    "from selenium.webdriver.chrome.service import Service\n",
    "from selenium.webdriver.chrome.options import Options\n",
    "from stable_baselines3.common.callbacks import BaseCallback\n",
    "\n",
    "import pyautogui"
   ],
   "outputs": [],
   "execution_count": 48
  },
  {
   "metadata": {
    "ExecuteTime": {
     "end_time": "2024-11-10T10:02:59.530462Z",
     "start_time": "2024-11-10T10:02:59.511177Z"
    }
   },
   "cell_type": "code",
   "source": [
    "images_folder = 'images'\n",
    "\n",
    "def find_object_on_screen(image_path, screenshot_path=None, threshold=0.8):\n",
    "    \"\"\"\n",
    "    Найти объект на экране по переданному изображению объекта.\n",
    "    \n",
    "    :param image_path: Путь к изображению объекта, который нужно найти.\n",
    "    :param screenshot_path: Путь к скриншоту экрана. Если None, будет сделан новый скриншот.\n",
    "    :param threshold: Пороговое значение для сопоставления (по умолчанию 0.8).\n",
    "    :return: Координаты верхнего левого и нижнего правого углов объекта (или None, если объект не найден).\n",
    "    \"\"\"\n",
    "    # Сделать скриншот экрана, если его путь не передан\n",
    "    if screenshot_path is None:\n",
    "        screen = pyautogui.screenshot()\n",
    "        screen = np.array(screen)\n",
    "        screen = cv2.cvtColor(screen, cv2.COLOR_RGB2GRAY)\n",
    "    else:\n",
    "        screen = cv2.imread(screenshot_path, 0)\n",
    "\n",
    "    object_image_path = f'./{images_folder}/{image_path}.png'\n",
    "    \n",
    "    # Загрузить изображение объекта\n",
    "    object_image = cv2.imread(object_image_path, 0)\n",
    "    h, w = object_image.shape\n",
    "\n",
    "    # Сопоставление шаблонов\n",
    "    result = cv2.matchTemplate(screen, object_image, cv2.TM_CCOEFF_NORMED)\n",
    "    loc = np.where(result >= threshold)\n",
    "\n",
    "    # Вернуть координаты\n",
    "    for pt in zip(*loc[::-1]):\n",
    "        top_left = pt\n",
    "        bottom_right = (pt[0] + w, pt[1] + h)\n",
    "        return top_left, bottom_right\n",
    "    \n",
    "    # Если объект не найден\n",
    "    return None"
   ],
   "id": "5566703f3ce36fb6",
   "outputs": [],
   "execution_count": 49
  },
  {
   "metadata": {
    "ExecuteTime": {
     "end_time": "2024-11-10T10:03:00.138404Z",
     "start_time": "2024-11-10T10:03:00.125037Z"
    }
   },
   "cell_type": "code",
   "source": [
    "def click_button(button_name):\n",
    "    coordinates = find_object_on_screen(image_path=button_name)\n",
    "    if coordinates:\n",
    "        top_left, bottom_right = coordinates\n",
    "        button_centre = ((top_left[0] + bottom_right[0]) / 2, (top_left[1] + bottom_right[1]) / 2)\n",
    "        \n",
    "        # debug issue\n",
    "        # print(\"Top left corner:\", top_left)\n",
    "        # print(\"Bottom right corner:\", bottom_right)\n",
    "        # print(\"Bottom centre:\", button_centre)\n",
    "        \n",
    "        pydirectinput.click(x=int(button_centre[0]), y=int(button_centre[1]))"
   ],
   "id": "117d2b091e6b0378",
   "outputs": [],
   "execution_count": 50
  },
  {
   "metadata": {
    "ExecuteTime": {
     "end_time": "2024-11-10T10:14:22.579751Z",
     "start_time": "2024-11-10T10:14:22.557115Z"
    }
   },
   "cell_type": "code",
   "source": [
    "class WebGame(Env):\n",
    "    def __init__(self):\n",
    "        super().__init__()\n",
    "        self.observation_space = Box(low=0, high=255, shape=(1, 84, 100), dtype=np.uint8)\n",
    "        self.action_space = Discrete(3)\n",
    "\n",
    "        # Настройки ChromeDriver\n",
    "        chrome_driver_path = r\"D:\\Users\\Legion\\Programs\\ChromeDriver\\chromedriver.exe\"\n",
    "        service = Service(chrome_driver_path)\n",
    "        chrome_options = Options()\n",
    "        chrome_options.add_argument(\"--disable-gpu\")\n",
    "\n",
    "        # Инициализация ChromeDriver\n",
    "        self.driver = webdriver.Chrome(service=service, options=chrome_options)\n",
    "        self.driver.get(\"https://dino.zone/ru/\")\n",
    "\n",
    "        # Ожидание загрузки страницы и появления окна\n",
    "        time.sleep(2)\n",
    "\n",
    "        # Нажать кнопку \"deny\"\n",
    "        click_button('deny')\n",
    "        \n",
    "        self.cap = mss()  # получение снимка экрана\n",
    "        \n",
    "        # Find the coordinates of the game area\n",
    "        game_area_coordinates = find_object_on_screen('game_area')\n",
    "        if game_area_coordinates is None:\n",
    "            print(\"Error: Could not find game area on the screen.\")\n",
    "        else:\n",
    "            top_left, bottom_right = game_area_coordinates\n",
    "            width = bottom_right[0] - top_left[0]\n",
    "            height = bottom_right[1] - top_left[1]\n",
    "            self.game_location = {'top': top_left[1], 'left': top_left[0], 'width': width, 'height': height}\n",
    "        \n",
    "        self.done_location = {'top': 0, 'left': 0, 'width': 500, 'height': 500}\n",
    "\n",
    "    def step(self, action):\n",
    "        action_map = {\n",
    "            0: Keys.ARROW_UP,  # Jump\n",
    "            1: Keys.ARROW_DOWN,  # Duck\n",
    "            2: None  # No action\n",
    "        }\n",
    "    \n",
    "        if action_map[action] is not None:\n",
    "            self.driver.find_element(By.TAG_NAME, \"body\").send_keys(action_map[action])\n",
    "    \n",
    "        done, done_cap = self.get_done()\n",
    "        new_observation = self.get_observation()  # Resized observation\n",
    "        reward = 1\n",
    "        info = {}\n",
    "    \n",
    "        # Set `truncated` to False if you want to assume the episode is not truncated\n",
    "        truncated = False\n",
    "    \n",
    "        return new_observation, reward, done, truncated, info\n",
    "\n",
    "    def reset(self, seed=None, options=None):\n",
    "        # Reset the environment (refresh the driver, restart the game)\n",
    "        self.driver.refresh()\n",
    "        time.sleep(1)\n",
    "        click_button('restart')\n",
    "        \n",
    "        # Return the observation and reset information\n",
    "        observation = self.get_observation()  # Resized observation\n",
    "        reset_info = {}  # Or None, if not needed\n",
    "        return observation, reset_info\n",
    "\n",
    "    def close(self):\n",
    "        self.driver.quit()\n",
    "        cv2.destroyAllWindows()\n",
    "\n",
    "    def get_observation(self):\n",
    "        raw = np.array(self.cap.grab(self.game_location))[:, :, :3].astype(np.uint8)\n",
    "        # Grayscale\n",
    "        gray = cv2.cvtColor(raw, cv2.COLOR_BGR2GRAY)\n",
    "        # Resize\n",
    "        resized = cv2.resize(gray, (100, 84))  # Resize to match observation space\n",
    "        # Add channels first\n",
    "        channel = np.reshape(resized, (1, 84, 100))\n",
    "        \n",
    "        return channel\n",
    "\n",
    "    def get_done(self):\n",
    "        screenshot_base64 = self.driver.get_screenshot_as_base64()\n",
    "        screenshot_bytes = base64.b64decode(screenshot_base64)\n",
    "        screenshot_image = Image.open(BytesIO(screenshot_bytes))\n",
    "        screenshot_np = np.array(screenshot_image)[:, :, :3]\n",
    "\n",
    "        done_cap = screenshot_np[\n",
    "            self.done_location['top']:self.done_location['top'] + self.done_location['height'],\n",
    "            self.done_location['left']:self.done_location['left'] + self.done_location['width']\n",
    "        ]\n",
    "\n",
    "        done_cap_gray = cv2.cvtColor(done_cap, cv2.COLOR_RGB2GRAY)\n",
    "        _, done_cap_thresh = cv2.threshold(done_cap_gray, 128, 255, cv2.THRESH_BINARY)\n",
    "\n",
    "        if find_object_on_screen('restart'):\n",
    "            done = True\n",
    "        else:\n",
    "            done = False\n",
    "\n",
    "        return done, done_cap"
   ],
   "id": "46bf698dfa6fffa6",
   "outputs": [],
   "execution_count": 55
  },
  {
   "metadata": {
    "ExecuteTime": {
     "end_time": "2024-11-10T08:58:18.781389Z",
     "start_time": "2024-11-10T08:58:09.666980Z"
    }
   },
   "cell_type": "code",
   "source": [
    "from matplotlib import pyplot as plt\n",
    "\n",
    "env = WebGame()\n",
    "\n",
    "# Получение текущего наблюдения\n",
    "observation = env.get_observation()\n",
    "\n",
    "# Печать формы наблюдения для проверки\n",
    "print(observation.shape)  # Форма наблюдения\n",
    "\n",
    "# Использование plt.imshow для отображения наблюдения\n",
    "plt.imshow(observation[0], cmap='gray')  # Если изображение черно-белое, используйте cmap='gray'\n",
    "plt.title(\"Agent's Observation\")\n",
    "plt.axis('off')  # Убираем оси для лучшей визуализации\n",
    "plt.show()"
   ],
   "id": "439e9433c5e962e9",
   "outputs": [
    {
     "name": "stdout",
     "output_type": "stream",
     "text": [
      "(1, 84, 100)\n"
     ]
    },
    {
     "data": {
      "text/plain": [
       "<Figure size 640x480 with 1 Axes>"
      ],
      "image/png": "[encoded data removed]"
     },
     "metadata": {},
     "output_type": "display_data"
    }
   ],
   "execution_count": 78
  },
  {
   "metadata": {
    "ExecuteTime": {
     "end_time": "2024-11-10T08:45:11.595527Z",
     "start_time": "2024-11-10T08:44:59.587382Z"
    }
   },
   "cell_type": "code",
   "outputs": [],
   "execution_count": 68,
   "source": [
    "# Вызов show_observation в нужный момент для отладки\n",
    "game = WebGame()\n",
    "game.show_observation()"
   ],
   "id": "c2b4645ec908e79a"
  },
  {
   "metadata": {
    "ExecuteTime": {
     "end_time": "2024-11-10T08:45:20.752532Z",
     "start_time": "2024-11-10T08:45:18.651187Z"
    }
   },
   "cell_type": "code",
   "outputs": [],
   "execution_count": 69,
   "source": "game.close()",
   "id": "dd208f6fa2cb0a16"
  },
  {
   "metadata": {
    "ExecuteTime": {
     "end_time": "2024-11-10T09:22:03.727349Z",
     "start_time": "2024-11-10T09:19:50.430116Z"
    }
   },
   "cell_type": "code",
   "source": [
    "# Функция для демонстрации 10 эпизодов игры\n",
    "def run_demo():\n",
    "    env = WebGame()\n",
    "\n",
    "    for episode in range(10):  # Запуск 10 игр\n",
    "        obs = env.reset()\n",
    "        done = False\n",
    "        total_reward = 0\n",
    "\n",
    "        while not done:\n",
    "            action = env.action_space.sample()  # Выбор случайного действия\n",
    "            obs, reward, done, info = env.step(action)\n",
    "            total_reward += reward\n",
    "\n",
    "            if done:\n",
    "                print(f\"Episode {episode + 1} finished with score: {total_reward}\")\n",
    "                time.sleep(1)  # Пауза между эпизодами\n",
    "                break\n",
    "\n",
    "    env.close()\n",
    "\n",
    "# Запуск демонстрации\n",
    "run_demo()"
   ],
   "id": "b3bb22403572d141",
   "outputs": [
    {
     "name": "stdout",
     "output_type": "stream",
     "text": [
      "Episode 1 finished with score: 19\n",
      "Episode 2 finished with score: 25\n",
      "Episode 3 finished with score: 23\n",
      "Episode 4 finished with score: 20\n",
      "Episode 5 finished with score: 19\n",
      "Episode 6 finished with score: 19\n",
      "Episode 7 finished with score: 21\n",
      "Episode 8 finished with score: 28\n",
      "Episode 9 finished with score: 30\n",
      "Episode 10 finished with score: 19\n"
     ]
    }
   ],
   "execution_count": 99
  },
  {
   "metadata": {
    "ExecuteTime": {
     "end_time": "2024-11-10T09:06:41.546081Z",
     "start_time": "2024-11-10T09:06:22.571948Z"
    }
   },
   "cell_type": "code",
   "source": [
    "from matplotlib import pyplot as plt\n",
    "\n",
    "env = WebGame()\n",
    "done, done_cap = WebGame().get_done()\n",
    "print(done_cap.shape)  # Game over cap shape\n",
    "print(done)  # Game over text detected\n",
    "plt.imshow(done_cap)"
   ],
   "id": "3146b5f9b66a0136",
   "outputs": [
    {
     "name": "stdout",
     "output_type": "stream",
     "text": [
      "(500, 500, 3)\n",
      "False\n"
     ]
    },
    {
     "data": {
      "text/plain": [
       "<matplotlib.image.AxesImage at 0x1cea6b72860>"
      ]
     },
     "execution_count": 82,
     "metadata": {},
     "output_type": "execute_result"
    },
    {
     "data": {
      "text/plain": [
       "<Figure size 640x480 with 1 Axes>"
      ],
      "image/png": "[encoded data removed]"
     },
     "metadata": {},
     "output_type": "display_data"
    }
   ],
   "execution_count": 82
  },
  {
   "metadata": {
    "ExecuteTime": {
     "end_time": "2024-11-10T10:03:09.882187Z",
     "start_time": "2024-11-10T10:03:09.877968Z"
    }
   },
   "cell_type": "code",
   "source": [
    "# Define a custom callback to save model checkpoints and track performance\n",
    "class SaveOnBestTrainingRewardCallback(BaseCallback):\n",
    "    def __init__(self, save_path, verbose=1):\n",
    "        super(SaveOnBestTrainingRewardCallback, self).__init__(verbose)\n",
    "        self.save_path = save_path\n",
    "        self.best_mean_reward = -float('inf')\n",
    "\n",
    "    def _on_step(self) -> bool:\n",
    "        if self.n_calls % 1000 == 0:  # Save every 1000 steps\n",
    "            mean_reward = self.training_env.get_attr(\"reward\")  # Get mean reward from the environment\n",
    "            if mean_reward and mean_reward > self.best_mean_reward:\n",
    "                self.best_mean_reward = mean_reward\n",
    "                self.model.save(self.save_path)\n",
    "                print(f\"Saving new best model with reward: {self.best_mean_reward}\")\n",
    "        return True"
   ],
   "id": "bdb2d6fa858061d9",
   "outputs": [],
   "execution_count": 52
  },
  {
   "metadata": {
    "ExecuteTime": {
     "end_time": "2024-11-10T10:03:17.553443Z",
     "start_time": "2024-11-10T10:03:10.366880Z"
    }
   },
   "cell_type": "code",
   "source": [
    "# Create the environment (ensure WebGame is defined with get_observation() updated)\n",
    "env = WebGame()\n",
    "\n",
    "# Ensure the tensorboard log directory exists\n",
    "tensorboard_log_dir = \"dqn_tensorboard/\"\n",
    "os.makedirs(tensorboard_log_dir, exist_ok=True)\n",
    "\n",
    "# Initialize the model\n",
    "model = DQN(\n",
    "    'CnnPolicy', env, verbose=1, buffer_size=50000, batch_size=16,\n",
    "    learning_starts=1000, optimize_memory_usage=False, tensorboard_log=tensorboard_log_dir\n",
    ")\n",
    "\n",
    "# Define the path to save the model\n",
    "model_save_path = \"best_model_dqn\"\n",
    "\n",
    "# Create the callback instance\n",
    "callback = SaveOnBestTrainingRewardCallback(save_path=model_save_path)"
   ],
   "id": "e8d5c862686d983c",
   "outputs": [
    {
     "name": "stdout",
     "output_type": "stream",
     "text": [
      "Using cuda device\n",
      "Wrapping the env with a `Monitor` wrapper\n",
      "Wrapping the env in a DummyVecEnv.\n"
     ]
    }
   ],
   "execution_count": 53
  },
  {
   "metadata": {
    "ExecuteTime": {
     "end_time": "2024-11-10T09:44:05.203558Z",
     "start_time": "2024-11-10T09:44:02.391328Z"
    }
   },
   "cell_type": "code",
   "source": [
    "# Train the model\n",
    "model.learn(model.learn(total_timesteps=10000, callback=callback, reset_num_timesteps=False))\n",
    "\n",
    "# Save the trained model\n",
    "model.save(\"final_model_dqn\")"
   ],
   "id": "98ec449ec19da6fe",
   "outputs": [
    {
     "ename": "ValueError",
     "evalue": "could not broadcast input array from shape (187,315,3) into shape (1,84,100)",
     "output_type": "error",
     "traceback": [
      "\u001B[1;31m---------------------------------------------------------------------------\u001B[0m",
      "\u001B[1;31mValueError\u001B[0m                                Traceback (most recent call last)",
      "Cell \u001B[1;32mIn[26], line 2\u001B[0m\n\u001B[0;32m      1\u001B[0m \u001B[38;5;66;03m# Train the model\u001B[39;00m\n\u001B[1;32m----> 2\u001B[0m model\u001B[38;5;241m.\u001B[39mlearn(\u001B[43mmodel\u001B[49m\u001B[38;5;241;43m.\u001B[39;49m\u001B[43mlearn\u001B[49m\u001B[43m(\u001B[49m\u001B[43mtotal_timesteps\u001B[49m\u001B[38;5;241;43m=\u001B[39;49m\u001B[38;5;241;43m10000\u001B[39;49m\u001B[43m,\u001B[49m\u001B[43m \u001B[49m\u001B[43mcallback\u001B[49m\u001B[38;5;241;43m=\u001B[39;49m\u001B[43mcallback\u001B[49m\u001B[43m,\u001B[49m\u001B[43m \u001B[49m\u001B[43mreset_num_timesteps\u001B[49m\u001B[38;5;241;43m=\u001B[39;49m\u001B[38;5;28;43;01mFalse\u001B[39;49;00m\u001B[43m)\u001B[49m)\n\u001B[0;32m      4\u001B[0m \u001B[38;5;66;03m# Save the trained model\u001B[39;00m\n\u001B[0;32m      5\u001B[0m model\u001B[38;5;241m.\u001B[39msave(\u001B[38;5;124m\"\u001B[39m\u001B[38;5;124mfinal_model_dqn\u001B[39m\u001B[38;5;124m\"\u001B[39m)\n",
      "File \u001B[1;32mD:\\Users\\Legion\\anaconda3\\envs\\env_pt\\lib\\site-packages\\stable_baselines3\\dqn\\dqn.py:267\u001B[0m, in \u001B[0;36mDQN.learn\u001B[1;34m(self, total_timesteps, callback, log_interval, tb_log_name, reset_num_timesteps, progress_bar)\u001B[0m\n\u001B[0;32m    258\u001B[0m \u001B[38;5;28;01mdef\u001B[39;00m \u001B[38;5;21mlearn\u001B[39m(\n\u001B[0;32m    259\u001B[0m     \u001B[38;5;28mself\u001B[39m: SelfDQN,\n\u001B[0;32m    260\u001B[0m     total_timesteps: \u001B[38;5;28mint\u001B[39m,\n\u001B[1;32m   (...)\u001B[0m\n\u001B[0;32m    265\u001B[0m     progress_bar: \u001B[38;5;28mbool\u001B[39m \u001B[38;5;241m=\u001B[39m \u001B[38;5;28;01mFalse\u001B[39;00m,\n\u001B[0;32m    266\u001B[0m ) \u001B[38;5;241m-\u001B[39m\u001B[38;5;241m>\u001B[39m SelfDQN:\n\u001B[1;32m--> 267\u001B[0m     \u001B[38;5;28;01mreturn\u001B[39;00m \u001B[38;5;28;43msuper\u001B[39;49m\u001B[43m(\u001B[49m\u001B[43m)\u001B[49m\u001B[38;5;241;43m.\u001B[39;49m\u001B[43mlearn\u001B[49m\u001B[43m(\u001B[49m\n\u001B[0;32m    268\u001B[0m \u001B[43m        \u001B[49m\u001B[43mtotal_timesteps\u001B[49m\u001B[38;5;241;43m=\u001B[39;49m\u001B[43mtotal_timesteps\u001B[49m\u001B[43m,\u001B[49m\n\u001B[0;32m    269\u001B[0m \u001B[43m        \u001B[49m\u001B[43mcallback\u001B[49m\u001B[38;5;241;43m=\u001B[39;49m\u001B[43mcallback\u001B[49m\u001B[43m,\u001B[49m\n\u001B[0;32m    270\u001B[0m \u001B[43m        \u001B[49m\u001B[43mlog_interval\u001B[49m\u001B[38;5;241;43m=\u001B[39;49m\u001B[43mlog_interval\u001B[49m\u001B[43m,\u001B[49m\n\u001B[0;32m    271\u001B[0m \u001B[43m        \u001B[49m\u001B[43mtb_log_name\u001B[49m\u001B[38;5;241;43m=\u001B[39;49m\u001B[43mtb_log_name\u001B[49m\u001B[43m,\u001B[49m\n\u001B[0;32m    272\u001B[0m \u001B[43m        \u001B[49m\u001B[43mreset_num_timesteps\u001B[49m\u001B[38;5;241;43m=\u001B[39;49m\u001B[43mreset_num_timesteps\u001B[49m\u001B[43m,\u001B[49m\n\u001B[0;32m    273\u001B[0m \u001B[43m        \u001B[49m\u001B[43mprogress_bar\u001B[49m\u001B[38;5;241;43m=\u001B[39;49m\u001B[43mprogress_bar\u001B[49m\u001B[43m,\u001B[49m\n\u001B[0;32m    274\u001B[0m \u001B[43m    \u001B[49m\u001B[43m)\u001B[49m\n",
      "File \u001B[1;32mD:\\Users\\Legion\\anaconda3\\envs\\env_pt\\lib\\site-packages\\stable_baselines3\\common\\off_policy_algorithm.py:314\u001B[0m, in \u001B[0;36mOffPolicyAlgorithm.learn\u001B[1;34m(self, total_timesteps, callback, log_interval, tb_log_name, reset_num_timesteps, progress_bar)\u001B[0m\n\u001B[0;32m    305\u001B[0m \u001B[38;5;28;01mdef\u001B[39;00m \u001B[38;5;21mlearn\u001B[39m(\n\u001B[0;32m    306\u001B[0m     \u001B[38;5;28mself\u001B[39m: SelfOffPolicyAlgorithm,\n\u001B[0;32m    307\u001B[0m     total_timesteps: \u001B[38;5;28mint\u001B[39m,\n\u001B[1;32m   (...)\u001B[0m\n\u001B[0;32m    312\u001B[0m     progress_bar: \u001B[38;5;28mbool\u001B[39m \u001B[38;5;241m=\u001B[39m \u001B[38;5;28;01mFalse\u001B[39;00m,\n\u001B[0;32m    313\u001B[0m ) \u001B[38;5;241m-\u001B[39m\u001B[38;5;241m>\u001B[39m SelfOffPolicyAlgorithm:\n\u001B[1;32m--> 314\u001B[0m     total_timesteps, callback \u001B[38;5;241m=\u001B[39m \u001B[38;5;28;43mself\u001B[39;49m\u001B[38;5;241;43m.\u001B[39;49m\u001B[43m_setup_learn\u001B[49m\u001B[43m(\u001B[49m\n\u001B[0;32m    315\u001B[0m \u001B[43m        \u001B[49m\u001B[43mtotal_timesteps\u001B[49m\u001B[43m,\u001B[49m\n\u001B[0;32m    316\u001B[0m \u001B[43m        \u001B[49m\u001B[43mcallback\u001B[49m\u001B[43m,\u001B[49m\n\u001B[0;32m    317\u001B[0m \u001B[43m        \u001B[49m\u001B[43mreset_num_timesteps\u001B[49m\u001B[43m,\u001B[49m\n\u001B[0;32m    318\u001B[0m \u001B[43m        \u001B[49m\u001B[43mtb_log_name\u001B[49m\u001B[43m,\u001B[49m\n\u001B[0;32m    319\u001B[0m \u001B[43m        \u001B[49m\u001B[43mprogress_bar\u001B[49m\u001B[43m,\u001B[49m\n\u001B[0;32m    320\u001B[0m \u001B[43m    \u001B[49m\u001B[43m)\u001B[49m\n\u001B[0;32m    322\u001B[0m     callback\u001B[38;5;241m.\u001B[39mon_training_start(\u001B[38;5;28mlocals\u001B[39m(), \u001B[38;5;28mglobals\u001B[39m())\n\u001B[0;32m    324\u001B[0m     \u001B[38;5;28;01massert\u001B[39;00m \u001B[38;5;28mself\u001B[39m\u001B[38;5;241m.\u001B[39menv \u001B[38;5;129;01mis\u001B[39;00m \u001B[38;5;129;01mnot\u001B[39;00m \u001B[38;5;28;01mNone\u001B[39;00m, \u001B[38;5;124m\"\u001B[39m\u001B[38;5;124mYou must set the environment before calling learn()\u001B[39m\u001B[38;5;124m\"\u001B[39m\n",
      "File \u001B[1;32mD:\\Users\\Legion\\anaconda3\\envs\\env_pt\\lib\\site-packages\\stable_baselines3\\common\\off_policy_algorithm.py:297\u001B[0m, in \u001B[0;36mOffPolicyAlgorithm._setup_learn\u001B[1;34m(self, total_timesteps, callback, reset_num_timesteps, tb_log_name, progress_bar)\u001B[0m\n\u001B[0;32m    290\u001B[0m \u001B[38;5;28;01mif\u001B[39;00m (\n\u001B[0;32m    291\u001B[0m     \u001B[38;5;28mself\u001B[39m\u001B[38;5;241m.\u001B[39maction_noise \u001B[38;5;129;01mis\u001B[39;00m \u001B[38;5;129;01mnot\u001B[39;00m \u001B[38;5;28;01mNone\u001B[39;00m\n\u001B[0;32m    292\u001B[0m     \u001B[38;5;129;01mand\u001B[39;00m \u001B[38;5;28mself\u001B[39m\u001B[38;5;241m.\u001B[39menv\u001B[38;5;241m.\u001B[39mnum_envs \u001B[38;5;241m>\u001B[39m \u001B[38;5;241m1\u001B[39m\n\u001B[0;32m    293\u001B[0m     \u001B[38;5;129;01mand\u001B[39;00m \u001B[38;5;129;01mnot\u001B[39;00m \u001B[38;5;28misinstance\u001B[39m(\u001B[38;5;28mself\u001B[39m\u001B[38;5;241m.\u001B[39maction_noise, VectorizedActionNoise)\n\u001B[0;32m    294\u001B[0m ):\n\u001B[0;32m    295\u001B[0m     \u001B[38;5;28mself\u001B[39m\u001B[38;5;241m.\u001B[39maction_noise \u001B[38;5;241m=\u001B[39m VectorizedActionNoise(\u001B[38;5;28mself\u001B[39m\u001B[38;5;241m.\u001B[39maction_noise, \u001B[38;5;28mself\u001B[39m\u001B[38;5;241m.\u001B[39menv\u001B[38;5;241m.\u001B[39mnum_envs)\n\u001B[1;32m--> 297\u001B[0m \u001B[38;5;28;01mreturn\u001B[39;00m \u001B[38;5;28;43msuper\u001B[39;49m\u001B[43m(\u001B[49m\u001B[43m)\u001B[49m\u001B[38;5;241;43m.\u001B[39;49m\u001B[43m_setup_learn\u001B[49m\u001B[43m(\u001B[49m\n\u001B[0;32m    298\u001B[0m \u001B[43m    \u001B[49m\u001B[43mtotal_timesteps\u001B[49m\u001B[43m,\u001B[49m\n\u001B[0;32m    299\u001B[0m \u001B[43m    \u001B[49m\u001B[43mcallback\u001B[49m\u001B[43m,\u001B[49m\n\u001B[0;32m    300\u001B[0m \u001B[43m    \u001B[49m\u001B[43mreset_num_timesteps\u001B[49m\u001B[43m,\u001B[49m\n\u001B[0;32m    301\u001B[0m \u001B[43m    \u001B[49m\u001B[43mtb_log_name\u001B[49m\u001B[43m,\u001B[49m\n\u001B[0;32m    302\u001B[0m \u001B[43m    \u001B[49m\u001B[43mprogress_bar\u001B[49m\u001B[43m,\u001B[49m\n\u001B[0;32m    303\u001B[0m \u001B[43m\u001B[49m\u001B[43m)\u001B[49m\n",
      "File \u001B[1;32mD:\\Users\\Legion\\anaconda3\\envs\\env_pt\\lib\\site-packages\\stable_baselines3\\common\\base_class.py:423\u001B[0m, in \u001B[0;36mBaseAlgorithm._setup_learn\u001B[1;34m(self, total_timesteps, callback, reset_num_timesteps, tb_log_name, progress_bar)\u001B[0m\n\u001B[0;32m    421\u001B[0m \u001B[38;5;28;01mif\u001B[39;00m reset_num_timesteps \u001B[38;5;129;01mor\u001B[39;00m \u001B[38;5;28mself\u001B[39m\u001B[38;5;241m.\u001B[39m_last_obs \u001B[38;5;129;01mis\u001B[39;00m \u001B[38;5;28;01mNone\u001B[39;00m:\n\u001B[0;32m    422\u001B[0m     \u001B[38;5;28;01massert\u001B[39;00m \u001B[38;5;28mself\u001B[39m\u001B[38;5;241m.\u001B[39menv \u001B[38;5;129;01mis\u001B[39;00m \u001B[38;5;129;01mnot\u001B[39;00m \u001B[38;5;28;01mNone\u001B[39;00m\n\u001B[1;32m--> 423\u001B[0m     \u001B[38;5;28mself\u001B[39m\u001B[38;5;241m.\u001B[39m_last_obs \u001B[38;5;241m=\u001B[39m \u001B[38;5;28;43mself\u001B[39;49m\u001B[38;5;241;43m.\u001B[39;49m\u001B[43menv\u001B[49m\u001B[38;5;241;43m.\u001B[39;49m\u001B[43mreset\u001B[49m\u001B[43m(\u001B[49m\u001B[43m)\u001B[49m  \u001B[38;5;66;03m# type: ignore[assignment]\u001B[39;00m\n\u001B[0;32m    424\u001B[0m     \u001B[38;5;28mself\u001B[39m\u001B[38;5;241m.\u001B[39m_last_episode_starts \u001B[38;5;241m=\u001B[39m np\u001B[38;5;241m.\u001B[39mones((\u001B[38;5;28mself\u001B[39m\u001B[38;5;241m.\u001B[39menv\u001B[38;5;241m.\u001B[39mnum_envs,), dtype\u001B[38;5;241m=\u001B[39m\u001B[38;5;28mbool\u001B[39m)\n\u001B[0;32m    425\u001B[0m     \u001B[38;5;66;03m# Retrieve unnormalized observation for saving into the buffer\u001B[39;00m\n",
      "File \u001B[1;32mD:\\Users\\Legion\\anaconda3\\envs\\env_pt\\lib\\site-packages\\stable_baselines3\\common\\vec_env\\dummy_vec_env.py:78\u001B[0m, in \u001B[0;36mDummyVecEnv.reset\u001B[1;34m(self)\u001B[0m\n\u001B[0;32m     76\u001B[0m     maybe_options \u001B[38;5;241m=\u001B[39m {\u001B[38;5;124m\"\u001B[39m\u001B[38;5;124moptions\u001B[39m\u001B[38;5;124m\"\u001B[39m: \u001B[38;5;28mself\u001B[39m\u001B[38;5;241m.\u001B[39m_options[env_idx]} \u001B[38;5;28;01mif\u001B[39;00m \u001B[38;5;28mself\u001B[39m\u001B[38;5;241m.\u001B[39m_options[env_idx] \u001B[38;5;28;01melse\u001B[39;00m {}\n\u001B[0;32m     77\u001B[0m     obs, \u001B[38;5;28mself\u001B[39m\u001B[38;5;241m.\u001B[39mreset_infos[env_idx] \u001B[38;5;241m=\u001B[39m \u001B[38;5;28mself\u001B[39m\u001B[38;5;241m.\u001B[39menvs[env_idx]\u001B[38;5;241m.\u001B[39mreset(seed\u001B[38;5;241m=\u001B[39m\u001B[38;5;28mself\u001B[39m\u001B[38;5;241m.\u001B[39m_seeds[env_idx], \u001B[38;5;241m*\u001B[39m\u001B[38;5;241m*\u001B[39mmaybe_options)\n\u001B[1;32m---> 78\u001B[0m     \u001B[38;5;28;43mself\u001B[39;49m\u001B[38;5;241;43m.\u001B[39;49m\u001B[43m_save_obs\u001B[49m\u001B[43m(\u001B[49m\u001B[43menv_idx\u001B[49m\u001B[43m,\u001B[49m\u001B[43m \u001B[49m\u001B[43mobs\u001B[49m\u001B[43m)\u001B[49m\n\u001B[0;32m     79\u001B[0m \u001B[38;5;66;03m# Seeds and options are only used once\u001B[39;00m\n\u001B[0;32m     80\u001B[0m \u001B[38;5;28mself\u001B[39m\u001B[38;5;241m.\u001B[39m_reset_seeds()\n",
      "File \u001B[1;32mD:\\Users\\Legion\\anaconda3\\envs\\env_pt\\lib\\site-packages\\stable_baselines3\\common\\vec_env\\dummy_vec_env.py:108\u001B[0m, in \u001B[0;36mDummyVecEnv._save_obs\u001B[1;34m(self, env_idx, obs)\u001B[0m\n\u001B[0;32m    106\u001B[0m \u001B[38;5;28;01mfor\u001B[39;00m key \u001B[38;5;129;01min\u001B[39;00m \u001B[38;5;28mself\u001B[39m\u001B[38;5;241m.\u001B[39mkeys:\n\u001B[0;32m    107\u001B[0m     \u001B[38;5;28;01mif\u001B[39;00m key \u001B[38;5;129;01mis\u001B[39;00m \u001B[38;5;28;01mNone\u001B[39;00m:\n\u001B[1;32m--> 108\u001B[0m         \u001B[38;5;28;43mself\u001B[39;49m\u001B[38;5;241;43m.\u001B[39;49m\u001B[43mbuf_obs\u001B[49m\u001B[43m[\u001B[49m\u001B[43mkey\u001B[49m\u001B[43m]\u001B[49m\u001B[43m[\u001B[49m\u001B[43menv_idx\u001B[49m\u001B[43m]\u001B[49m \u001B[38;5;241m=\u001B[39m obs\n\u001B[0;32m    109\u001B[0m     \u001B[38;5;28;01melse\u001B[39;00m:\n\u001B[0;32m    110\u001B[0m         \u001B[38;5;28mself\u001B[39m\u001B[38;5;241m.\u001B[39mbuf_obs[key][env_idx] \u001B[38;5;241m=\u001B[39m obs[key]\n",
      "\u001B[1;31mValueError\u001B[0m: could not broadcast input array from shape (187,315,3) into shape (1,84,100)"
     ]
    }
   ],
   "execution_count": 26
  },
  {
   "metadata": {
    "ExecuteTime": {
     "end_time": "2024-11-10T09:39:35.735217Z",
     "start_time": "2024-11-10T09:39:33.528085Z"
    }
   },
   "cell_type": "code",
   "source": [
    "from stable_baselines3.common.env_checker import check_env\n",
    "check_env(env)"
   ],
   "id": "30e04b9ce9d5a0a4",
   "outputs": [
    {
     "ename": "TypeError",
     "evalue": "The reset() method must accept a `seed` parameter",
     "output_type": "error",
     "traceback": [
      "\u001B[1;31m---------------------------------------------------------------------------\u001B[0m",
      "\u001B[1;31mTypeError\u001B[0m                                 Traceback (most recent call last)",
      "File \u001B[1;32mD:\\Users\\Legion\\anaconda3\\envs\\env_pt\\lib\\site-packages\\stable_baselines3\\common\\env_checker.py:433\u001B[0m, in \u001B[0;36mcheck_env\u001B[1;34m(env, warn, skip_render_check)\u001B[0m\n\u001B[0;32m    432\u001B[0m \u001B[38;5;28;01mtry\u001B[39;00m:\n\u001B[1;32m--> 433\u001B[0m     \u001B[43menv\u001B[49m\u001B[38;5;241;43m.\u001B[39;49m\u001B[43mreset\u001B[49m\u001B[43m(\u001B[49m\u001B[43mseed\u001B[49m\u001B[38;5;241;43m=\u001B[39;49m\u001B[38;5;241;43m0\u001B[39;49m\u001B[43m)\u001B[49m\n\u001B[0;32m    434\u001B[0m \u001B[38;5;28;01mexcept\u001B[39;00m \u001B[38;5;167;01mTypeError\u001B[39;00m \u001B[38;5;28;01mas\u001B[39;00m e:\n",
      "\u001B[1;31mTypeError\u001B[0m: WebGame.reset() got an unexpected keyword argument 'seed'",
      "\nThe above exception was the direct cause of the following exception:\n",
      "\u001B[1;31mTypeError\u001B[0m                                 Traceback (most recent call last)",
      "Cell \u001B[1;32mIn[11], line 2\u001B[0m\n\u001B[0;32m      1\u001B[0m \u001B[38;5;28;01mfrom\u001B[39;00m \u001B[38;5;21;01mstable_baselines3\u001B[39;00m\u001B[38;5;21;01m.\u001B[39;00m\u001B[38;5;21;01mcommon\u001B[39;00m\u001B[38;5;21;01m.\u001B[39;00m\u001B[38;5;21;01menv_checker\u001B[39;00m \u001B[38;5;28;01mimport\u001B[39;00m check_env\n\u001B[1;32m----> 2\u001B[0m \u001B[43mcheck_env\u001B[49m\u001B[43m(\u001B[49m\u001B[43menv\u001B[49m\u001B[43m)\u001B[49m\n",
      "File \u001B[1;32mD:\\Users\\Legion\\anaconda3\\envs\\env_pt\\lib\\site-packages\\stable_baselines3\\common\\env_checker.py:435\u001B[0m, in \u001B[0;36mcheck_env\u001B[1;34m(env, warn, skip_render_check)\u001B[0m\n\u001B[0;32m    433\u001B[0m     env\u001B[38;5;241m.\u001B[39mreset(seed\u001B[38;5;241m=\u001B[39m\u001B[38;5;241m0\u001B[39m)\n\u001B[0;32m    434\u001B[0m \u001B[38;5;28;01mexcept\u001B[39;00m \u001B[38;5;167;01mTypeError\u001B[39;00m \u001B[38;5;28;01mas\u001B[39;00m e:\n\u001B[1;32m--> 435\u001B[0m     \u001B[38;5;28;01mraise\u001B[39;00m \u001B[38;5;167;01mTypeError\u001B[39;00m(\u001B[38;5;124m\"\u001B[39m\u001B[38;5;124mThe reset() method must accept a `seed` parameter\u001B[39m\u001B[38;5;124m\"\u001B[39m) \u001B[38;5;28;01mfrom\u001B[39;00m \u001B[38;5;21;01me\u001B[39;00m\n\u001B[0;32m    437\u001B[0m \u001B[38;5;66;03m# Warn the user if needed.\u001B[39;00m\n\u001B[0;32m    438\u001B[0m \u001B[38;5;66;03m# A warning means that the environment may run but not work properly with Stable Baselines algorithms\u001B[39;00m\n\u001B[0;32m    439\u001B[0m \u001B[38;5;28;01mif\u001B[39;00m warn:\n",
      "\u001B[1;31mTypeError\u001B[0m: The reset() method must accept a `seed` parameter"
     ]
    }
   ],
   "execution_count": 11
  },
  {
   "metadata": {
    "ExecuteTime": {
     "end_time": "2024-11-10T09:47:37.976634Z",
     "start_time": "2024-11-10T09:47:37.959587Z"
    }
   },
   "cell_type": "code",
   "source": [
    "class TrainAndLoggingCallback(BaseCallback):\n",
    "    def __init__(self, check_freq, save_path, verbose=1):\n",
    "        super(TrainAndLoggingCallback, self).__init__(verbose)\n",
    "        self.check_freq = check_freq\n",
    "        self.save_path = save_path\n",
    "\n",
    "    def _init_callback(self):\n",
    "        if self.save_path is not None:\n",
    "            os.makedirs(self.save_path, exist_ok=True)\n",
    "\n",
    "    def _on_step(self):\n",
    "        if self.n_calls % self.check_freq == 0:\n",
    "            model_path = os.path.join(self.save_path, f'best_model_{self.n_calls}')\n",
    "            self.model.save(model_path)\n",
    "        return True"
   ],
   "id": "61c38692a0166e9a",
   "outputs": [],
   "execution_count": 36
  },
  {
   "metadata": {
    "ExecuteTime": {
     "end_time": "2024-11-10T10:03:28.938389Z",
     "start_time": "2024-11-10T10:03:24.657618Z"
    }
   },
   "cell_type": "code",
   "source": [
    "CHECKPOINT_DIR = 'train/'\n",
    "LOG_DIR = 'logs/'\n",
    "os.makedirs(CHECKPOINT_DIR, exist_ok=True)\n",
    "os.makedirs(LOG_DIR, exist_ok=True)\n",
    "\n",
    "# Initialize the logging callback\n",
    "callback = TrainAndLoggingCallback(check_freq=1000, save_path=CHECKPOINT_DIR)\n",
    "\n",
    "model = DQN(\n",
    "    'CnnPolicy', env, tensorboard_log=LOG_DIR, verbose=1,\n",
    "    buffer_size=100000, batch_size=32, learning_starts=1000, optimize_memory_usage=False\n",
    ")\n",
    "\n",
    "# Train the model with logging callback\n",
    "model.learn(total_timesteps=100000, callback=callback)\n",
    "\n",
    "model.load(os.path.join(CHECKPOINT_DIR, 'best_model_88000'))\n",
    "\n",
    "for episode in range(5):\n",
    "    obs = env.reset()\n",
    "    done = False\n",
    "    total_reward = 0\n",
    "    while not done:\n",
    "        action, _ = model.predict(obs)\n",
    "        obs, reward, done, info = env.step(int(action))\n",
    "        time.sleep(0.01)\n",
    "        total_reward += reward\n",
    "    print(f'Total Reward for episode {episode} is {total_reward}')\n",
    "    time.sleep(2)"
   ],
   "id": "5f58f068eaf40982",
   "outputs": [
    {
     "name": "stdout",
     "output_type": "stream",
     "text": [
      "Using cuda device\n",
      "Wrapping the env with a `Monitor` wrapper\n",
      "Wrapping the env in a DummyVecEnv.\n"
     ]
    },
    {
     "ename": "TypeError",
     "evalue": "235620",
     "output_type": "error",
     "traceback": [
      "\u001B[1;31m---------------------------------------------------------------------------\u001B[0m",
      "\u001B[1;31mTypeError\u001B[0m                                 Traceback (most recent call last)",
      "Cell \u001B[1;32mIn[54], line 15\u001B[0m\n\u001B[0;32m      9\u001B[0m model \u001B[38;5;241m=\u001B[39m DQN(\n\u001B[0;32m     10\u001B[0m     \u001B[38;5;124m'\u001B[39m\u001B[38;5;124mCnnPolicy\u001B[39m\u001B[38;5;124m'\u001B[39m, env, tensorboard_log\u001B[38;5;241m=\u001B[39mLOG_DIR, verbose\u001B[38;5;241m=\u001B[39m\u001B[38;5;241m1\u001B[39m,\n\u001B[0;32m     11\u001B[0m     buffer_size\u001B[38;5;241m=\u001B[39m\u001B[38;5;241m100000\u001B[39m, batch_size\u001B[38;5;241m=\u001B[39m\u001B[38;5;241m32\u001B[39m, learning_starts\u001B[38;5;241m=\u001B[39m\u001B[38;5;241m1000\u001B[39m, optimize_memory_usage\u001B[38;5;241m=\u001B[39m\u001B[38;5;28;01mFalse\u001B[39;00m\n\u001B[0;32m     12\u001B[0m )\n\u001B[0;32m     14\u001B[0m \u001B[38;5;66;03m# Train the model with logging callback\u001B[39;00m\n\u001B[1;32m---> 15\u001B[0m \u001B[43mmodel\u001B[49m\u001B[38;5;241;43m.\u001B[39;49m\u001B[43mlearn\u001B[49m\u001B[43m(\u001B[49m\u001B[43mtotal_timesteps\u001B[49m\u001B[38;5;241;43m=\u001B[39;49m\u001B[38;5;241;43m100000\u001B[39;49m\u001B[43m,\u001B[49m\u001B[43m \u001B[49m\u001B[43mcallback\u001B[49m\u001B[38;5;241;43m=\u001B[39;49m\u001B[43mcallback\u001B[49m\u001B[43m)\u001B[49m\n\u001B[0;32m     17\u001B[0m model\u001B[38;5;241m.\u001B[39mload(os\u001B[38;5;241m.\u001B[39mpath\u001B[38;5;241m.\u001B[39mjoin(CHECKPOINT_DIR, \u001B[38;5;124m'\u001B[39m\u001B[38;5;124mbest_model_88000\u001B[39m\u001B[38;5;124m'\u001B[39m))\n\u001B[0;32m     19\u001B[0m \u001B[38;5;28;01mfor\u001B[39;00m episode \u001B[38;5;129;01min\u001B[39;00m \u001B[38;5;28mrange\u001B[39m(\u001B[38;5;241m5\u001B[39m):\n",
      "File \u001B[1;32mD:\\Users\\Legion\\anaconda3\\envs\\env_pt\\lib\\site-packages\\stable_baselines3\\dqn\\dqn.py:267\u001B[0m, in \u001B[0;36mDQN.learn\u001B[1;34m(self, total_timesteps, callback, log_interval, tb_log_name, reset_num_timesteps, progress_bar)\u001B[0m\n\u001B[0;32m    258\u001B[0m \u001B[38;5;28;01mdef\u001B[39;00m \u001B[38;5;21mlearn\u001B[39m(\n\u001B[0;32m    259\u001B[0m     \u001B[38;5;28mself\u001B[39m: SelfDQN,\n\u001B[0;32m    260\u001B[0m     total_timesteps: \u001B[38;5;28mint\u001B[39m,\n\u001B[1;32m   (...)\u001B[0m\n\u001B[0;32m    265\u001B[0m     progress_bar: \u001B[38;5;28mbool\u001B[39m \u001B[38;5;241m=\u001B[39m \u001B[38;5;28;01mFalse\u001B[39;00m,\n\u001B[0;32m    266\u001B[0m ) \u001B[38;5;241m-\u001B[39m\u001B[38;5;241m>\u001B[39m SelfDQN:\n\u001B[1;32m--> 267\u001B[0m     \u001B[38;5;28;01mreturn\u001B[39;00m \u001B[38;5;28;43msuper\u001B[39;49m\u001B[43m(\u001B[49m\u001B[43m)\u001B[49m\u001B[38;5;241;43m.\u001B[39;49m\u001B[43mlearn\u001B[49m\u001B[43m(\u001B[49m\n\u001B[0;32m    268\u001B[0m \u001B[43m        \u001B[49m\u001B[43mtotal_timesteps\u001B[49m\u001B[38;5;241;43m=\u001B[39;49m\u001B[43mtotal_timesteps\u001B[49m\u001B[43m,\u001B[49m\n\u001B[0;32m    269\u001B[0m \u001B[43m        \u001B[49m\u001B[43mcallback\u001B[49m\u001B[38;5;241;43m=\u001B[39;49m\u001B[43mcallback\u001B[49m\u001B[43m,\u001B[49m\n\u001B[0;32m    270\u001B[0m \u001B[43m        \u001B[49m\u001B[43mlog_interval\u001B[49m\u001B[38;5;241;43m=\u001B[39;49m\u001B[43mlog_interval\u001B[49m\u001B[43m,\u001B[49m\n\u001B[0;32m    271\u001B[0m \u001B[43m        \u001B[49m\u001B[43mtb_log_name\u001B[49m\u001B[38;5;241;43m=\u001B[39;49m\u001B[43mtb_log_name\u001B[49m\u001B[43m,\u001B[49m\n\u001B[0;32m    272\u001B[0m \u001B[43m        \u001B[49m\u001B[43mreset_num_timesteps\u001B[49m\u001B[38;5;241;43m=\u001B[39;49m\u001B[43mreset_num_timesteps\u001B[49m\u001B[43m,\u001B[49m\n\u001B[0;32m    273\u001B[0m \u001B[43m        \u001B[49m\u001B[43mprogress_bar\u001B[49m\u001B[38;5;241;43m=\u001B[39;49m\u001B[43mprogress_bar\u001B[49m\u001B[43m,\u001B[49m\n\u001B[0;32m    274\u001B[0m \u001B[43m    \u001B[49m\u001B[43m)\u001B[49m\n",
      "File \u001B[1;32mD:\\Users\\Legion\\anaconda3\\envs\\env_pt\\lib\\site-packages\\stable_baselines3\\common\\off_policy_algorithm.py:314\u001B[0m, in \u001B[0;36mOffPolicyAlgorithm.learn\u001B[1;34m(self, total_timesteps, callback, log_interval, tb_log_name, reset_num_timesteps, progress_bar)\u001B[0m\n\u001B[0;32m    305\u001B[0m \u001B[38;5;28;01mdef\u001B[39;00m \u001B[38;5;21mlearn\u001B[39m(\n\u001B[0;32m    306\u001B[0m     \u001B[38;5;28mself\u001B[39m: SelfOffPolicyAlgorithm,\n\u001B[0;32m    307\u001B[0m     total_timesteps: \u001B[38;5;28mint\u001B[39m,\n\u001B[1;32m   (...)\u001B[0m\n\u001B[0;32m    312\u001B[0m     progress_bar: \u001B[38;5;28mbool\u001B[39m \u001B[38;5;241m=\u001B[39m \u001B[38;5;28;01mFalse\u001B[39;00m,\n\u001B[0;32m    313\u001B[0m ) \u001B[38;5;241m-\u001B[39m\u001B[38;5;241m>\u001B[39m SelfOffPolicyAlgorithm:\n\u001B[1;32m--> 314\u001B[0m     total_timesteps, callback \u001B[38;5;241m=\u001B[39m \u001B[38;5;28;43mself\u001B[39;49m\u001B[38;5;241;43m.\u001B[39;49m\u001B[43m_setup_learn\u001B[49m\u001B[43m(\u001B[49m\n\u001B[0;32m    315\u001B[0m \u001B[43m        \u001B[49m\u001B[43mtotal_timesteps\u001B[49m\u001B[43m,\u001B[49m\n\u001B[0;32m    316\u001B[0m \u001B[43m        \u001B[49m\u001B[43mcallback\u001B[49m\u001B[43m,\u001B[49m\n\u001B[0;32m    317\u001B[0m \u001B[43m        \u001B[49m\u001B[43mreset_num_timesteps\u001B[49m\u001B[43m,\u001B[49m\n\u001B[0;32m    318\u001B[0m \u001B[43m        \u001B[49m\u001B[43mtb_log_name\u001B[49m\u001B[43m,\u001B[49m\n\u001B[0;32m    319\u001B[0m \u001B[43m        \u001B[49m\u001B[43mprogress_bar\u001B[49m\u001B[43m,\u001B[49m\n\u001B[0;32m    320\u001B[0m \u001B[43m    \u001B[49m\u001B[43m)\u001B[49m\n\u001B[0;32m    322\u001B[0m     callback\u001B[38;5;241m.\u001B[39mon_training_start(\u001B[38;5;28mlocals\u001B[39m(), \u001B[38;5;28mglobals\u001B[39m())\n\u001B[0;32m    324\u001B[0m     \u001B[38;5;28;01massert\u001B[39;00m \u001B[38;5;28mself\u001B[39m\u001B[38;5;241m.\u001B[39menv \u001B[38;5;129;01mis\u001B[39;00m \u001B[38;5;129;01mnot\u001B[39;00m \u001B[38;5;28;01mNone\u001B[39;00m, \u001B[38;5;124m\"\u001B[39m\u001B[38;5;124mYou must set the environment before calling learn()\u001B[39m\u001B[38;5;124m\"\u001B[39m\n",
      "File \u001B[1;32mD:\\Users\\Legion\\anaconda3\\envs\\env_pt\\lib\\site-packages\\stable_baselines3\\common\\off_policy_algorithm.py:297\u001B[0m, in \u001B[0;36mOffPolicyAlgorithm._setup_learn\u001B[1;34m(self, total_timesteps, callback, reset_num_timesteps, tb_log_name, progress_bar)\u001B[0m\n\u001B[0;32m    290\u001B[0m \u001B[38;5;28;01mif\u001B[39;00m (\n\u001B[0;32m    291\u001B[0m     \u001B[38;5;28mself\u001B[39m\u001B[38;5;241m.\u001B[39maction_noise \u001B[38;5;129;01mis\u001B[39;00m \u001B[38;5;129;01mnot\u001B[39;00m \u001B[38;5;28;01mNone\u001B[39;00m\n\u001B[0;32m    292\u001B[0m     \u001B[38;5;129;01mand\u001B[39;00m \u001B[38;5;28mself\u001B[39m\u001B[38;5;241m.\u001B[39menv\u001B[38;5;241m.\u001B[39mnum_envs \u001B[38;5;241m>\u001B[39m \u001B[38;5;241m1\u001B[39m\n\u001B[0;32m    293\u001B[0m     \u001B[38;5;129;01mand\u001B[39;00m \u001B[38;5;129;01mnot\u001B[39;00m \u001B[38;5;28misinstance\u001B[39m(\u001B[38;5;28mself\u001B[39m\u001B[38;5;241m.\u001B[39maction_noise, VectorizedActionNoise)\n\u001B[0;32m    294\u001B[0m ):\n\u001B[0;32m    295\u001B[0m     \u001B[38;5;28mself\u001B[39m\u001B[38;5;241m.\u001B[39maction_noise \u001B[38;5;241m=\u001B[39m VectorizedActionNoise(\u001B[38;5;28mself\u001B[39m\u001B[38;5;241m.\u001B[39maction_noise, \u001B[38;5;28mself\u001B[39m\u001B[38;5;241m.\u001B[39menv\u001B[38;5;241m.\u001B[39mnum_envs)\n\u001B[1;32m--> 297\u001B[0m \u001B[38;5;28;01mreturn\u001B[39;00m \u001B[38;5;28;43msuper\u001B[39;49m\u001B[43m(\u001B[49m\u001B[43m)\u001B[49m\u001B[38;5;241;43m.\u001B[39;49m\u001B[43m_setup_learn\u001B[49m\u001B[43m(\u001B[49m\n\u001B[0;32m    298\u001B[0m \u001B[43m    \u001B[49m\u001B[43mtotal_timesteps\u001B[49m\u001B[43m,\u001B[49m\n\u001B[0;32m    299\u001B[0m \u001B[43m    \u001B[49m\u001B[43mcallback\u001B[49m\u001B[43m,\u001B[49m\n\u001B[0;32m    300\u001B[0m \u001B[43m    \u001B[49m\u001B[43mreset_num_timesteps\u001B[49m\u001B[43m,\u001B[49m\n\u001B[0;32m    301\u001B[0m \u001B[43m    \u001B[49m\u001B[43mtb_log_name\u001B[49m\u001B[43m,\u001B[49m\n\u001B[0;32m    302\u001B[0m \u001B[43m    \u001B[49m\u001B[43mprogress_bar\u001B[49m\u001B[43m,\u001B[49m\n\u001B[0;32m    303\u001B[0m \u001B[43m\u001B[49m\u001B[43m)\u001B[49m\n",
      "File \u001B[1;32mD:\\Users\\Legion\\anaconda3\\envs\\env_pt\\lib\\site-packages\\stable_baselines3\\common\\base_class.py:423\u001B[0m, in \u001B[0;36mBaseAlgorithm._setup_learn\u001B[1;34m(self, total_timesteps, callback, reset_num_timesteps, tb_log_name, progress_bar)\u001B[0m\n\u001B[0;32m    421\u001B[0m \u001B[38;5;28;01mif\u001B[39;00m reset_num_timesteps \u001B[38;5;129;01mor\u001B[39;00m \u001B[38;5;28mself\u001B[39m\u001B[38;5;241m.\u001B[39m_last_obs \u001B[38;5;129;01mis\u001B[39;00m \u001B[38;5;28;01mNone\u001B[39;00m:\n\u001B[0;32m    422\u001B[0m     \u001B[38;5;28;01massert\u001B[39;00m \u001B[38;5;28mself\u001B[39m\u001B[38;5;241m.\u001B[39menv \u001B[38;5;129;01mis\u001B[39;00m \u001B[38;5;129;01mnot\u001B[39;00m \u001B[38;5;28;01mNone\u001B[39;00m\n\u001B[1;32m--> 423\u001B[0m     \u001B[38;5;28mself\u001B[39m\u001B[38;5;241m.\u001B[39m_last_obs \u001B[38;5;241m=\u001B[39m \u001B[38;5;28;43mself\u001B[39;49m\u001B[38;5;241;43m.\u001B[39;49m\u001B[43menv\u001B[49m\u001B[38;5;241;43m.\u001B[39;49m\u001B[43mreset\u001B[49m\u001B[43m(\u001B[49m\u001B[43m)\u001B[49m  \u001B[38;5;66;03m# type: ignore[assignment]\u001B[39;00m\n\u001B[0;32m    424\u001B[0m     \u001B[38;5;28mself\u001B[39m\u001B[38;5;241m.\u001B[39m_last_episode_starts \u001B[38;5;241m=\u001B[39m np\u001B[38;5;241m.\u001B[39mones((\u001B[38;5;28mself\u001B[39m\u001B[38;5;241m.\u001B[39menv\u001B[38;5;241m.\u001B[39mnum_envs,), dtype\u001B[38;5;241m=\u001B[39m\u001B[38;5;28mbool\u001B[39m)\n\u001B[0;32m    425\u001B[0m     \u001B[38;5;66;03m# Retrieve unnormalized observation for saving into the buffer\u001B[39;00m\n",
      "File \u001B[1;32mD:\\Users\\Legion\\anaconda3\\envs\\env_pt\\lib\\site-packages\\stable_baselines3\\common\\vec_env\\dummy_vec_env.py:77\u001B[0m, in \u001B[0;36mDummyVecEnv.reset\u001B[1;34m(self)\u001B[0m\n\u001B[0;32m     75\u001B[0m \u001B[38;5;28;01mfor\u001B[39;00m env_idx \u001B[38;5;129;01min\u001B[39;00m \u001B[38;5;28mrange\u001B[39m(\u001B[38;5;28mself\u001B[39m\u001B[38;5;241m.\u001B[39mnum_envs):\n\u001B[0;32m     76\u001B[0m     maybe_options \u001B[38;5;241m=\u001B[39m {\u001B[38;5;124m\"\u001B[39m\u001B[38;5;124moptions\u001B[39m\u001B[38;5;124m\"\u001B[39m: \u001B[38;5;28mself\u001B[39m\u001B[38;5;241m.\u001B[39m_options[env_idx]} \u001B[38;5;28;01mif\u001B[39;00m \u001B[38;5;28mself\u001B[39m\u001B[38;5;241m.\u001B[39m_options[env_idx] \u001B[38;5;28;01melse\u001B[39;00m {}\n\u001B[1;32m---> 77\u001B[0m     obs, \u001B[38;5;28mself\u001B[39m\u001B[38;5;241m.\u001B[39mreset_infos[env_idx] \u001B[38;5;241m=\u001B[39m \u001B[38;5;28mself\u001B[39m\u001B[38;5;241m.\u001B[39menvs[env_idx]\u001B[38;5;241m.\u001B[39mreset(seed\u001B[38;5;241m=\u001B[39m\u001B[38;5;28mself\u001B[39m\u001B[38;5;241m.\u001B[39m_seeds[env_idx], \u001B[38;5;241m*\u001B[39m\u001B[38;5;241m*\u001B[39mmaybe_options)\n\u001B[0;32m     78\u001B[0m     \u001B[38;5;28mself\u001B[39m\u001B[38;5;241m.\u001B[39m_save_obs(env_idx, obs)\n\u001B[0;32m     79\u001B[0m \u001B[38;5;66;03m# Seeds and options are only used once\u001B[39;00m\n",
      "File \u001B[1;32mD:\\Users\\Legion\\anaconda3\\envs\\env_pt\\lib\\site-packages\\stable_baselines3\\common\\monitor.py:83\u001B[0m, in \u001B[0;36mMonitor.reset\u001B[1;34m(self, **kwargs)\u001B[0m\n\u001B[0;32m     81\u001B[0m         \u001B[38;5;28;01mraise\u001B[39;00m \u001B[38;5;167;01mValueError\u001B[39;00m(\u001B[38;5;124mf\u001B[39m\u001B[38;5;124m\"\u001B[39m\u001B[38;5;124mExpected you to pass keyword argument \u001B[39m\u001B[38;5;132;01m{\u001B[39;00mkey\u001B[38;5;132;01m}\u001B[39;00m\u001B[38;5;124m into reset\u001B[39m\u001B[38;5;124m\"\u001B[39m)\n\u001B[0;32m     82\u001B[0m     \u001B[38;5;28mself\u001B[39m\u001B[38;5;241m.\u001B[39mcurrent_reset_info[key] \u001B[38;5;241m=\u001B[39m value\n\u001B[1;32m---> 83\u001B[0m \u001B[38;5;28;01mreturn\u001B[39;00m \u001B[38;5;28mself\u001B[39m\u001B[38;5;241m.\u001B[39menv\u001B[38;5;241m.\u001B[39mreset(\u001B[38;5;241m*\u001B[39m\u001B[38;5;241m*\u001B[39mkwargs)\n",
      "Cell \u001B[1;32mIn[51], line 65\u001B[0m, in \u001B[0;36mWebGame.reset\u001B[1;34m(self, seed, options)\u001B[0m\n\u001B[0;32m     62\u001B[0m click_button(\u001B[38;5;124m'\u001B[39m\u001B[38;5;124mrestart\u001B[39m\u001B[38;5;124m'\u001B[39m)\n\u001B[0;32m     64\u001B[0m \u001B[38;5;66;03m# Return the observation and reset information\u001B[39;00m\n\u001B[1;32m---> 65\u001B[0m observation \u001B[38;5;241m=\u001B[39m \u001B[38;5;28;43mself\u001B[39;49m\u001B[38;5;241;43m.\u001B[39;49m\u001B[43mget_observation\u001B[49m\u001B[43m(\u001B[49m\u001B[43m)\u001B[49m  \u001B[38;5;66;03m# Resized observation\u001B[39;00m\n\u001B[0;32m     66\u001B[0m reset_info \u001B[38;5;241m=\u001B[39m {}  \u001B[38;5;66;03m# Or None, if not needed\u001B[39;00m\n\u001B[0;32m     67\u001B[0m \u001B[38;5;28;01mreturn\u001B[39;00m observation, reset_info\n",
      "Cell \u001B[1;32mIn[51], line 74\u001B[0m, in \u001B[0;36mWebGame.get_observation\u001B[1;34m(self)\u001B[0m\n\u001B[0;32m     73\u001B[0m \u001B[38;5;28;01mdef\u001B[39;00m \u001B[38;5;21mget_observation\u001B[39m(\u001B[38;5;28mself\u001B[39m):\n\u001B[1;32m---> 74\u001B[0m     raw \u001B[38;5;241m=\u001B[39m np\u001B[38;5;241m.\u001B[39marray(\u001B[38;5;28;43mself\u001B[39;49m\u001B[38;5;241;43m.\u001B[39;49m\u001B[43mcap\u001B[49m\u001B[38;5;241;43m.\u001B[39;49m\u001B[43mgrab\u001B[49m\u001B[43m(\u001B[49m\u001B[38;5;28;43mself\u001B[39;49m\u001B[38;5;241;43m.\u001B[39;49m\u001B[43mgame_location\u001B[49m\u001B[43m)\u001B[49m)[:, :, :\u001B[38;5;241m3\u001B[39m]\u001B[38;5;241m.\u001B[39mastype(np\u001B[38;5;241m.\u001B[39muint8)\n\u001B[0;32m     75\u001B[0m     \u001B[38;5;66;03m# Grayscale\u001B[39;00m\n\u001B[0;32m     76\u001B[0m     gray \u001B[38;5;241m=\u001B[39m cv2\u001B[38;5;241m.\u001B[39mcvtColor(raw, cv2\u001B[38;5;241m.\u001B[39mCOLOR_BGR2GRAY)\n",
      "File \u001B[1;32mD:\\Users\\Legion\\anaconda3\\envs\\env_pt\\lib\\site-packages\\mss\\base.py:90\u001B[0m, in \u001B[0;36mMSSBase.grab\u001B[1;34m(self, monitor)\u001B[0m\n\u001B[0;32m     82\u001B[0m     monitor \u001B[38;5;241m=\u001B[39m {\n\u001B[0;32m     83\u001B[0m         \u001B[38;5;124m\"\u001B[39m\u001B[38;5;124mleft\u001B[39m\u001B[38;5;124m\"\u001B[39m: monitor[\u001B[38;5;241m0\u001B[39m],\n\u001B[0;32m     84\u001B[0m         \u001B[38;5;124m\"\u001B[39m\u001B[38;5;124mtop\u001B[39m\u001B[38;5;124m\"\u001B[39m: monitor[\u001B[38;5;241m1\u001B[39m],\n\u001B[0;32m     85\u001B[0m         \u001B[38;5;124m\"\u001B[39m\u001B[38;5;124mwidth\u001B[39m\u001B[38;5;124m\"\u001B[39m: monitor[\u001B[38;5;241m2\u001B[39m] \u001B[38;5;241m-\u001B[39m monitor[\u001B[38;5;241m0\u001B[39m],\n\u001B[0;32m     86\u001B[0m         \u001B[38;5;124m\"\u001B[39m\u001B[38;5;124mheight\u001B[39m\u001B[38;5;124m\"\u001B[39m: monitor[\u001B[38;5;241m3\u001B[39m] \u001B[38;5;241m-\u001B[39m monitor[\u001B[38;5;241m1\u001B[39m],\n\u001B[0;32m     87\u001B[0m     }\n\u001B[0;32m     89\u001B[0m \u001B[38;5;28;01mwith\u001B[39;00m lock:\n\u001B[1;32m---> 90\u001B[0m     screenshot \u001B[38;5;241m=\u001B[39m \u001B[38;5;28;43mself\u001B[39;49m\u001B[38;5;241;43m.\u001B[39;49m\u001B[43m_grab_impl\u001B[49m\u001B[43m(\u001B[49m\u001B[43mmonitor\u001B[49m\u001B[43m)\u001B[49m\n\u001B[0;32m     91\u001B[0m     \u001B[38;5;28;01mif\u001B[39;00m \u001B[38;5;28mself\u001B[39m\u001B[38;5;241m.\u001B[39mwith_cursor \u001B[38;5;129;01mand\u001B[39;00m (cursor \u001B[38;5;241m:=\u001B[39m \u001B[38;5;28mself\u001B[39m\u001B[38;5;241m.\u001B[39m_cursor_impl()):\n\u001B[0;32m     92\u001B[0m         \u001B[38;5;28;01mreturn\u001B[39;00m \u001B[38;5;28mself\u001B[39m\u001B[38;5;241m.\u001B[39m_merge(screenshot, cursor)\n",
      "File \u001B[1;32mD:\\Users\\Legion\\anaconda3\\envs\\env_pt\\lib\\site-packages\\mss\\windows.py:243\u001B[0m, in \u001B[0;36mMSS._grab_impl\u001B[1;34m(self, monitor)\u001B[0m\n\u001B[0;32m    241\u001B[0m \u001B[38;5;28mself\u001B[39m\u001B[38;5;241m.\u001B[39m_handles\u001B[38;5;241m.\u001B[39mbmi\u001B[38;5;241m.\u001B[39mbmiHeader\u001B[38;5;241m.\u001B[39mbiWidth \u001B[38;5;241m=\u001B[39m width\n\u001B[0;32m    242\u001B[0m \u001B[38;5;28mself\u001B[39m\u001B[38;5;241m.\u001B[39m_handles\u001B[38;5;241m.\u001B[39mbmi\u001B[38;5;241m.\u001B[39mbmiHeader\u001B[38;5;241m.\u001B[39mbiHeight \u001B[38;5;241m=\u001B[39m \u001B[38;5;241m-\u001B[39mheight  \u001B[38;5;66;03m# Why minus? [1]\u001B[39;00m\n\u001B[1;32m--> 243\u001B[0m \u001B[38;5;28mself\u001B[39m\u001B[38;5;241m.\u001B[39m_handles\u001B[38;5;241m.\u001B[39mdata \u001B[38;5;241m=\u001B[39m \u001B[43mctypes\u001B[49m\u001B[38;5;241;43m.\u001B[39;49m\u001B[43mcreate_string_buffer\u001B[49m\u001B[43m(\u001B[49m\u001B[43mwidth\u001B[49m\u001B[43m \u001B[49m\u001B[38;5;241;43m*\u001B[39;49m\u001B[43m \u001B[49m\u001B[43mheight\u001B[49m\u001B[43m \u001B[49m\u001B[38;5;241;43m*\u001B[39;49m\u001B[43m \u001B[49m\u001B[38;5;241;43m4\u001B[39;49m\u001B[43m)\u001B[49m  \u001B[38;5;66;03m# [2]\u001B[39;00m\n\u001B[0;32m    244\u001B[0m \u001B[38;5;28;01mif\u001B[39;00m \u001B[38;5;28mself\u001B[39m\u001B[38;5;241m.\u001B[39m_handles\u001B[38;5;241m.\u001B[39mbmp:\n\u001B[0;32m    245\u001B[0m     gdi\u001B[38;5;241m.\u001B[39mDeleteObject(\u001B[38;5;28mself\u001B[39m\u001B[38;5;241m.\u001B[39m_handles\u001B[38;5;241m.\u001B[39mbmp)\n",
      "File \u001B[1;32mD:\\Users\\Legion\\anaconda3\\envs\\env_pt\\lib\\ctypes\\__init__.py:66\u001B[0m, in \u001B[0;36mcreate_string_buffer\u001B[1;34m(init, size)\u001B[0m\n\u001B[0;32m     64\u001B[0m     buf \u001B[38;5;241m=\u001B[39m buftype()\n\u001B[0;32m     65\u001B[0m     \u001B[38;5;28;01mreturn\u001B[39;00m buf\n\u001B[1;32m---> 66\u001B[0m \u001B[38;5;28;01mraise\u001B[39;00m \u001B[38;5;167;01mTypeError\u001B[39;00m(init)\n",
      "\u001B[1;31mTypeError\u001B[0m: 235620"
     ]
    }
   ],
   "execution_count": 54
  },
  {
   "metadata": {},
   "cell_type": "code",
   "outputs": [],
   "execution_count": null,
   "source": "",
   "id": "40e66c9e30c2b10d"
  }
 ],
 "metadata": {
  "kernelspec": {
   "display_name": "Python 3",
   "language": "python",
   "name": "python3"
  },
  "language_info": {
   "codemirror_mode": {
    "name": "ipython",
    "version": 2
   },
   "file_extension": ".py",
   "mimetype": "text/x-python",
   "name": "python",
   "nbconvert_exporter": "python",
   "pygments_lexer": "ipython2",
   "version": "2.7.6"
  }
 },
 "nbformat": 4,
 "nbformat_minor": 5
}
